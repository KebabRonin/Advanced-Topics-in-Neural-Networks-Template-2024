{
 "cells": [
  {
   "cell_type": "code",
   "execution_count": 13,
   "metadata": {
    "_cell_guid": "b1076dfc-b9ad-4769-8c92-a6c4dae69d19",
    "_uuid": "8f2839f25d086af736a60e9eeb907d3b93b6e0e5",
    "execution": {
     "iopub.execute_input": "2025-01-02T13:29:47.171973Z",
     "iopub.status.busy": "2025-01-02T13:29:47.171710Z",
     "iopub.status.idle": "2025-01-02T13:29:53.614116Z",
     "shell.execute_reply": "2025-01-02T13:29:53.613246Z",
     "shell.execute_reply.started": "2025-01-02T13:29:47.171945Z"
    },
    "trusted": true
   },
   "outputs": [
    {
     "data": {
      "text/plain": [
       "'resnext101_mentormix_70/source.ipynb'"
      ]
     },
     "execution_count": 13,
     "metadata": {},
     "output_type": "execute_result"
    }
   ],
   "source": [
    "import torch\n",
    "from torch import nn, Tensor\n",
    "from torch.utils.data import Dataset, DataLoader\n",
    "from torchvision.datasets import CIFAR100\n",
    "from typing import Optional, Callable\n",
    "import os\n",
    "import random\n",
    "import timm\n",
    "import numpy as np\n",
    "import pandas as pd\n",
    "from torchvision.transforms import v2\n",
    "from torch.backends import cudnn\n",
    "from torch import GradScaler\n",
    "from torch import optim\n",
    "from tqdm.notebook import tqdm\n",
    "import time\n",
    "PATH_FF = 'resnext101_mentormix_70'\n",
    "os.mkdir(PATH_FF)\n",
    "from shutil import copy2\n",
    "copy2(\"test_mentormix.ipynb\", f\"{PATH_FF}/source.ipynb\")"
   ]
  },
  {
   "cell_type": "code",
   "execution_count": 14,
   "metadata": {
    "execution": {
     "iopub.execute_input": "2025-01-02T13:29:53.616209Z",
     "iopub.status.busy": "2025-01-02T13:29:53.615741Z",
     "iopub.status.idle": "2025-01-02T13:29:53.620675Z",
     "shell.execute_reply": "2025-01-02T13:29:53.619872Z",
     "shell.execute_reply.started": "2025-01-02T13:29:53.616178Z"
    },
    "trusted": true
   },
   "outputs": [],
   "source": [
    "device = torch.device('cuda')\n",
    "cudnn.benchmark = True\n",
    "pin_memory = True\n",
    "enable_half = True  # Disable for CPU, it is slower!\n",
    "scaler = GradScaler(device, enabled=enable_half)"
   ]
  },
  {
   "cell_type": "code",
   "execution_count": 15,
   "metadata": {
    "execution": {
     "iopub.execute_input": "2025-01-02T13:29:53.622484Z",
     "iopub.status.busy": "2025-01-02T13:29:53.622099Z",
     "iopub.status.idle": "2025-01-02T13:29:53.642578Z",
     "shell.execute_reply": "2025-01-02T13:29:53.641601Z",
     "shell.execute_reply.started": "2025-01-02T13:29:53.622437Z"
    },
    "trusted": true
   },
   "outputs": [],
   "source": [
    "class SimpleCachedDataset(Dataset):\n",
    "    def __init__(self, dataset, include_flipped=False):\n",
    "        self.include_flipped = include_flipped\n",
    "        self.data = tuple([x for x in dataset])\n",
    "\n",
    "    def __len__(self):\n",
    "        return len(self.data) * (2 if self.include_flipped else 1)\n",
    "\n",
    "    def __getitem__(self, i):\n",
    "        if self.include_flipped and i // len(self.data) == 1:\n",
    "            i = i - len(self.data)\n",
    "            return (v2.functional.horizontal_flip(self.data[i][0]), self.data[i][1])\n",
    "        else:\n",
    "            return self.data[i]"
   ]
  },
  {
   "cell_type": "code",
   "execution_count": 16,
   "metadata": {
    "execution": {
     "iopub.execute_input": "2025-01-02T13:29:53.644300Z",
     "iopub.status.busy": "2025-01-02T13:29:53.644003Z",
     "iopub.status.idle": "2025-01-02T13:29:53.654012Z",
     "shell.execute_reply": "2025-01-02T13:29:53.653222Z",
     "shell.execute_reply.started": "2025-01-02T13:29:53.644272Z"
    },
    "trusted": true
   },
   "outputs": [],
   "source": [
    "class CIFAR100_noisy_fine(Dataset):\n",
    "    \"\"\"\n",
    "    See https://github.com/UCSC-REAL/cifar-10-100n, https://www.noisylabels.com/ and `Learning with Noisy Labels\n",
    "    Revisited: A Study Using Real-World Human Annotations`.\n",
    "    \"\"\"\n",
    "\n",
    "    def __init__(\n",
    "        self, root: str, train: bool, transform: Optional[Callable], download: bool\n",
    "    ):\n",
    "        cifar100 = CIFAR100(\n",
    "            root=root, train=train, transform=transform, download=download\n",
    "        )\n",
    "        data, targets = tuple(zip(*cifar100))\n",
    "\n",
    "        if train:\n",
    "            noisy_label_file = os.path.join(root, \"CIFAR-100-noisy.npz\")\n",
    "            if not os.path.isfile(noisy_label_file):\n",
    "                raise FileNotFoundError(\n",
    "                    f\"{type(self).__name__} need {noisy_label_file} to be used!\"\n",
    "                )\n",
    "\n",
    "            noise_file = np.load(noisy_label_file)\n",
    "            if not np.array_equal(noise_file[\"clean_label\"], targets):\n",
    "                raise RuntimeError(\"Clean labels do not match!\")\n",
    "            targets = noise_file[\"noisy_label\"]\n",
    "\n",
    "        self.data = data\n",
    "        self.targets = targets\n",
    "\n",
    "    def __len__(self):\n",
    "        return len(self.targets)\n",
    "\n",
    "    def __getitem__(self, i: int):\n",
    "        return self.data[i], torch.tensor([1. if j == self.targets[i] else 0. for j in range(100)])"
   ]
  },
  {
   "cell_type": "code",
   "execution_count": 17,
   "metadata": {
    "execution": {
     "iopub.execute_input": "2025-01-02T13:29:53.655809Z",
     "iopub.status.busy": "2025-01-02T13:29:53.655184Z",
     "iopub.status.idle": "2025-01-02T13:30:32.533731Z",
     "shell.execute_reply": "2025-01-02T13:30:32.533030Z",
     "shell.execute_reply.started": "2025-01-02T13:29:53.655769Z"
    },
    "trusted": true
   },
   "outputs": [],
   "source": [
    "basic_transforms = v2.Compose([\n",
    "    v2.ToImage(),\n",
    "    v2.ToDtype(torch.float32, scale=True),\n",
    "    # v2.GaussianNoise(mean=0, sigma=0.005, clip=True),\n",
    "    # v2.GaussianNoise(mean=0, sigma=0.01, clip=True),\n",
    "    # v2.GaussianNoise(mean=0, sigma=0.1, clip=True),\n",
    "    # v2.RandomRotation((-5, 5)),\n",
    "    # v2.RandomRotation((-15, 15)),\n",
    "    # v2.RandomRotation((-2, 2)),\n",
    "    # v2.RandomHorizontalFlip(p=0.5),\n",
    "    v2.Normalize((0.5, 0.5, 0.5), (0.25, 0.25, 0.25), inplace=True)\n",
    "])\n",
    "train_set = CIFAR100_noisy_fine('/kaggle/input/fii-atnn-2024-project-noisy-cifar-100/fii-atnn-2024-project-noisy-cifar-100', download=False, train=True, transform=basic_transforms)\n",
    "test_set = CIFAR100_noisy_fine('/kaggle/input/fii-atnn-2024-project-noisy-cifar-100/fii-atnn-2024-project-noisy-cifar-100', download=False, train=False, transform=basic_transforms)\n",
    "test_set = SimpleCachedDataset(test_set)\n",
    "\n",
    "# generator = torch.Generator().manual_seed(42)\n",
    "# train_set, valid_set = torch.utils.data.random_split(train_set, [0.8, 0.2], generator=generator)\n",
    "# TODO: Change include flipped for better results\n",
    "train_loader = DataLoader(SimpleCachedDataset(train_set, include_flipped=False), batch_size=64, shuffle=True, pin_memory=pin_memory)\n",
    "# valid_loader = DataLoader(SimpleCachedDataset(valid_set, include_flipped=True), batch_size=500, shuffle=False, pin_memory=pin_memory)\n",
    "test_loader = DataLoader(test_set, batch_size=500, pin_memory=pin_memory)\n"
   ]
  },
  {
   "cell_type": "code",
   "execution_count": 18,
   "metadata": {
    "execution": {
     "iopub.execute_input": "2025-01-02T13:36:52.589138Z",
     "iopub.status.busy": "2025-01-02T13:36:52.588481Z",
     "iopub.status.idle": "2025-01-02T13:36:54.474961Z",
     "shell.execute_reply": "2025-01-02T13:36:54.474189Z",
     "shell.execute_reply.started": "2025-01-02T13:36:52.589106Z"
    },
    "trusted": true
   },
   "outputs": [],
   "source": [
    "model = timm.create_model(\"resnext101_32x8d\", pretrained=True) #'hf_hub:grodino/resnet18_cifar10 resnext101_32x8d efficientnet_b5'\n",
    "model.fc = nn.Sequential(nn.Linear(2048, 100), nn.Softmax(dim=-1))\n",
    "model = model.to(device)\n",
    "\n",
    "hist = None\n",
    "# model = torch.jit.script(model)  # does not work for this model\n",
    "def custom_cross_entropy_loss(prediction, target, aggregate=True):\n",
    "    \"\"\"Modified CrossEntropy to work with fuzzy one-hot encodings. (For mixup targets of type [0.5, 0.5, 0, 0])\"\"\"\n",
    "    losses = (-1 * torch.sum(torch.log(prediction) * target, dim=-1))\n",
    "    if aggregate:\n",
    "        return losses.mean()\n",
    "    else:\n",
    "        return losses\n",
    "criterion = custom_cross_entropy_loss # nn.CrossEntropyLoss()\n",
    "optimizer = optim.SGD(model.parameters(), lr=0.001, weight_decay=0.0001, fused=True)\n",
    "\n",
    "reset_stats = True"
   ]
  },
  {
   "cell_type": "code",
   "execution_count": 19,
   "metadata": {
    "execution": {
     "iopub.execute_input": "2025-01-02T13:36:47.453310Z",
     "iopub.status.busy": "2025-01-02T13:36:47.452359Z",
     "iopub.status.idle": "2025-01-02T13:36:47.461290Z",
     "shell.execute_reply": "2025-01-02T13:36:47.460292Z",
     "shell.execute_reply.started": "2025-01-02T13:36:47.453259Z"
    },
    "trusted": true
   },
   "outputs": [],
   "source": [
    "def train(mixup=False, mentor=False, weight_again=False, alpha=1, ema_percentile_gamma_p=70):\n",
    "    \"\"\"Training loop\n",
    "\n",
    "    Args:\n",
    "        mixup (bool, optional): Whether to use mixup. Defaults to False.\n",
    "        mentor (bool, optional): Whether to use the mentor weighting. `mixup` must be True. Defaults to False.\n",
    "        weight_again (bool, optional): Whether to reweight mixed up examples. `mentor` must be True. Defaults to False.\n",
    "        alpha (int, optional): Parameter of the beta distribution for mixup. Defaults to 1.\n",
    "        ema_percentile_gamma_p (int, optional): Percentile of losses for mentor weighting. Defaults to 70.\n",
    "\n",
    "    Returns:\n",
    "        float: Training Loss\n",
    "    \"\"\"\n",
    "    model.train()\n",
    "    correct = 0\n",
    "    total = 0\n",
    "    gamma = 0 # ema\n",
    "    ema_percentile_gamma_p = ema_percentile_gamma_p # MentorMix -> take x of the minibatch for mixup (most likely to be correctly labeled)\n",
    "    alpha = alpha # Mixup\n",
    "    if mixup:\n",
    "        loaderr = train_loader # zip(train_loader, train_loader)\n",
    "    else:\n",
    "        loaderr = train_loader\n",
    "    with tqdm(loaderr, position=1, leave=False) as mbatch:\n",
    "        for inputs, targets in mbatch:\n",
    "            inputs, targets = inputs.to(device, non_blocking=True), targets.to(device, non_blocking=True)\n",
    "            # Mixup\n",
    "            if mixup:\n",
    "                inputs1, targets1 = inputs, targets\n",
    "                if mentor:\n",
    "                    losses = criterion(model(inputs), targets, aggregate=False)\n",
    "                    optimizer.zero_grad()\n",
    "                    perc_loss = np.percentile(losses.detach().cpu().numpy(), ema_percentile_gamma_p)\n",
    "                    gamma = gamma * 0.9 + perc_loss * 0.1 # EMA of the admissible loss threshold, so the model doesn't learn from very lossy samples (likely noisy labels)\n",
    "                    v = nn.functional.softmax((losses < gamma).float(), dim=-1).cpu().float()\n",
    "                    indexes = random.choices(list(range(inputs.size(0))), weights=v, k=inputs.size(0))\n",
    "                    inputs2, targets2 = inputs[indexes], targets[indexes]\n",
    "                    lam = np.random.beta(alpha, alpha)\n",
    "                    inputs = inputs1 * lam + inputs2 * (1 - lam)\n",
    "                    targets = targets1 * lam + targets2 * (1 - lam)\n",
    "                    optimizer.zero_grad()\n",
    "                else:\n",
    "                    indexes = torch.randperm(inputs.size(0))\n",
    "                    inputs2, targets2 = inputs[indexes], targets[indexes]\n",
    "                    lam = np.random.beta(alpha, alpha)\n",
    "                    inputs = inputs1 * lam + inputs2 * (1 - lam)\n",
    "                    targets = targets1 * lam + targets2 * (1 - lam)\n",
    "            with torch.autocast(device.type, enabled=enable_half):\n",
    "                outputs = model(inputs)\n",
    "                # print(outputs.shape)\n",
    "                loss = criterion(outputs, targets, aggregate=True)\n",
    "                # Weight again\n",
    "                if mentor and weight_again:\n",
    "                    loss *= (loss < gamma).float().detach()\n",
    "                    loss = loss.mean()\n",
    "                    mbatch.set_postfix_str(f\"{gamma:.4f} taken: {int((losses < gamma).float().sum().item()):>3} / {int(loss.shape[0])}\")\n",
    "            scaler.scale(loss).backward()\n",
    "            scaler.step(optimizer)\n",
    "            scaler.update()\n",
    "            optimizer.zero_grad()\n",
    "\n",
    "            predicted = outputs.argmax(1)\n",
    "            ts = targets.argmax(1)\n",
    "            total += targets.size(0)\n",
    "            correct += predicted.eq(ts).sum().item()\n",
    "\n",
    "    return 100.0 * correct / total"
   ]
  },
  {
   "cell_type": "code",
   "execution_count": 20,
   "metadata": {
    "execution": {
     "iopub.execute_input": "2025-01-02T13:30:36.279266Z",
     "iopub.status.busy": "2025-01-02T13:30:36.278888Z",
     "iopub.status.idle": "2025-01-02T13:30:36.293671Z",
     "shell.execute_reply": "2025-01-02T13:30:36.292802Z",
     "shell.execute_reply.started": "2025-01-02T13:30:36.279184Z"
    },
    "trusted": true
   },
   "outputs": [],
   "source": [
    "@torch.inference_mode()\n",
    "def val(loader):\n",
    "    model.eval()\n",
    "    correct = 0\n",
    "    total = 0\n",
    "\n",
    "    for inputs, targets in loader:\n",
    "        inputs, targets = inputs.to(device, non_blocking=True), targets.to(device, non_blocking=True)\n",
    "        with torch.autocast(device.type, enabled=enable_half):\n",
    "            outputs = model(inputs)\n",
    "\n",
    "        predicted = outputs.argmax(1)\n",
    "        ts = targets.argmax(1)\n",
    "        total += targets.size(0)\n",
    "        correct += predicted.eq(ts).sum().item()\n",
    "\n",
    "    return 100.0 * correct / total"
   ]
  },
  {
   "cell_type": "code",
   "execution_count": 21,
   "metadata": {
    "execution": {
     "iopub.execute_input": "2025-01-02T13:30:36.295094Z",
     "iopub.status.busy": "2025-01-02T13:30:36.294795Z",
     "iopub.status.idle": "2025-01-02T13:30:36.303568Z",
     "shell.execute_reply": "2025-01-02T13:30:36.302732Z",
     "shell.execute_reply.started": "2025-01-02T13:30:36.295068Z"
    },
    "trusted": true
   },
   "outputs": [],
   "source": [
    "@torch.inference_mode()\n",
    "def inference():\n",
    "    model.eval()\n",
    "\n",
    "    labels = []\n",
    "\n",
    "    for inputs, _ in test_loader:\n",
    "        inputs = inputs.to(device, non_blocking=True)\n",
    "        with torch.autocast(device.type, enabled=enable_half):\n",
    "            outputs = model(inputs)\n",
    "\n",
    "        predicted = outputs.argmax(1).tolist()\n",
    "        labels.extend(predicted)\n",
    "\n",
    "    return labels"
   ]
  },
  {
   "cell_type": "code",
   "execution_count": 12,
   "metadata": {
    "execution": {
     "iopub.execute_input": "2025-01-02T13:36:58.721994Z",
     "iopub.status.busy": "2025-01-02T13:36:58.721095Z"
    },
    "trusted": true
   },
   "outputs": [
    {
     "data": {
      "application/vnd.jupyter.widget-view+json": {
       "model_id": "688ea633679c4c0982baa28da0f29578",
       "version_major": 2,
       "version_minor": 0
      },
      "text/plain": [
       "  0%|          | 0/1000 [00:00<?, ?it/s]"
      ]
     },
     "metadata": {},
     "output_type": "display_data"
    },
    {
     "data": {
      "application/vnd.jupyter.widget-view+json": {
       "model_id": "3f6bd7a7e8af4c42b21f48e8869496bb",
       "version_major": 2,
       "version_minor": 0
      },
      "text/plain": [
       "  0%|          | 0/782 [00:00<?, ?it/s]"
      ]
     },
     "metadata": {},
     "output_type": "display_data"
    },
    {
     "data": {
      "application/vnd.jupyter.widget-view+json": {
       "model_id": "ed37c05ba9b74b8aa3080caad0ba0031",
       "version_major": 2,
       "version_minor": 0
      },
      "text/plain": [
       "  0%|          | 0/782 [00:00<?, ?it/s]"
      ]
     },
     "metadata": {},
     "output_type": "display_data"
    },
    {
     "data": {
      "application/vnd.jupyter.widget-view+json": {
       "model_id": "892dd2fe04ba4bb58a9eab28ef0d142e",
       "version_major": 2,
       "version_minor": 0
      },
      "text/plain": [
       "  0%|          | 0/782 [00:00<?, ?it/s]"
      ]
     },
     "metadata": {},
     "output_type": "display_data"
    },
    {
     "data": {
      "application/vnd.jupyter.widget-view+json": {
       "model_id": "f93c2241df2d4173967eb8e7c33ce320",
       "version_major": 2,
       "version_minor": 0
      },
      "text/plain": [
       "  0%|          | 0/782 [00:00<?, ?it/s]"
      ]
     },
     "metadata": {},
     "output_type": "display_data"
    },
    {
     "data": {
      "application/vnd.jupyter.widget-view+json": {
       "model_id": "73109396bcb94db1be0b7aca65c71683",
       "version_major": 2,
       "version_minor": 0
      },
      "text/plain": [
       "  0%|          | 0/782 [00:00<?, ?it/s]"
      ]
     },
     "metadata": {},
     "output_type": "display_data"
    },
    {
     "data": {
      "application/vnd.jupyter.widget-view+json": {
       "model_id": "6a4d011d3139437580aab2c6a4c03e50",
       "version_major": 2,
       "version_minor": 0
      },
      "text/plain": [
       "  0%|          | 0/782 [00:00<?, ?it/s]"
      ]
     },
     "metadata": {},
     "output_type": "display_data"
    },
    {
     "data": {
      "application/vnd.jupyter.widget-view+json": {
       "model_id": "987783d9834148e4a95c7a9f8ddebebf",
       "version_major": 2,
       "version_minor": 0
      },
      "text/plain": [
       "  0%|          | 0/782 [00:00<?, ?it/s]"
      ]
     },
     "metadata": {},
     "output_type": "display_data"
    },
    {
     "data": {
      "application/vnd.jupyter.widget-view+json": {
       "model_id": "dfc3a9932ab845d7a343365cda9179b1",
       "version_major": 2,
       "version_minor": 0
      },
      "text/plain": [
       "  0%|          | 0/782 [00:00<?, ?it/s]"
      ]
     },
     "metadata": {},
     "output_type": "display_data"
    },
    {
     "data": {
      "application/vnd.jupyter.widget-view+json": {
       "model_id": "0c6e80dff9a94c168c74c5813e0b26c2",
       "version_major": 2,
       "version_minor": 0
      },
      "text/plain": [
       "  0%|          | 0/782 [00:00<?, ?it/s]"
      ]
     },
     "metadata": {},
     "output_type": "display_data"
    },
    {
     "data": {
      "application/vnd.jupyter.widget-view+json": {
       "model_id": "547f2272a08a402bb2b0e6430d030b54",
       "version_major": 2,
       "version_minor": 0
      },
      "text/plain": [
       "  0%|          | 0/782 [00:00<?, ?it/s]"
      ]
     },
     "metadata": {},
     "output_type": "display_data"
    },
    {
     "data": {
      "application/vnd.jupyter.widget-view+json": {
       "model_id": "bb2c1083c7f147829ea0335a91ea0295",
       "version_major": 2,
       "version_minor": 0
      },
      "text/plain": [
       "  0%|          | 0/782 [00:00<?, ?it/s]"
      ]
     },
     "metadata": {},
     "output_type": "display_data"
    },
    {
     "data": {
      "application/vnd.jupyter.widget-view+json": {
       "model_id": "0574b8d5898a46bbaf6c56f620ea9ba5",
       "version_major": 2,
       "version_minor": 0
      },
      "text/plain": [
       "  0%|          | 0/782 [00:00<?, ?it/s]"
      ]
     },
     "metadata": {},
     "output_type": "display_data"
    },
    {
     "data": {
      "application/vnd.jupyter.widget-view+json": {
       "model_id": "da4cac98aa2a41bfbfae1c4cf842fab1",
       "version_major": 2,
       "version_minor": 0
      },
      "text/plain": [
       "  0%|          | 0/782 [00:00<?, ?it/s]"
      ]
     },
     "metadata": {},
     "output_type": "display_data"
    },
    {
     "data": {
      "application/vnd.jupyter.widget-view+json": {
       "model_id": "6fc3c82fc9c1478eb2d2dfa792fab922",
       "version_major": 2,
       "version_minor": 0
      },
      "text/plain": [
       "  0%|          | 0/782 [00:00<?, ?it/s]"
      ]
     },
     "metadata": {},
     "output_type": "display_data"
    },
    {
     "data": {
      "application/vnd.jupyter.widget-view+json": {
       "model_id": "5f7ed75740814b59b34f9f0e9c805b5c",
       "version_major": 2,
       "version_minor": 0
      },
      "text/plain": [
       "  0%|          | 0/782 [00:00<?, ?it/s]"
      ]
     },
     "metadata": {},
     "output_type": "display_data"
    },
    {
     "data": {
      "application/vnd.jupyter.widget-view+json": {
       "model_id": "2d333a7e30344b0d9f7aef95050204a8",
       "version_major": 2,
       "version_minor": 0
      },
      "text/plain": [
       "  0%|          | 0/782 [00:00<?, ?it/s]"
      ]
     },
     "metadata": {},
     "output_type": "display_data"
    },
    {
     "data": {
      "application/vnd.jupyter.widget-view+json": {
       "model_id": "8552213c372746dbb9341a7e4544345c",
       "version_major": 2,
       "version_minor": 0
      },
      "text/plain": [
       "  0%|          | 0/782 [00:00<?, ?it/s]"
      ]
     },
     "metadata": {},
     "output_type": "display_data"
    },
    {
     "data": {
      "application/vnd.jupyter.widget-view+json": {
       "model_id": "9f8f33366c9c401fb3b17ff2249d54ab",
       "version_major": 2,
       "version_minor": 0
      },
      "text/plain": [
       "  0%|          | 0/782 [00:00<?, ?it/s]"
      ]
     },
     "metadata": {},
     "output_type": "display_data"
    },
    {
     "data": {
      "application/vnd.jupyter.widget-view+json": {
       "model_id": "12f819893757446fa0eb0e6a20e491e3",
       "version_major": 2,
       "version_minor": 0
      },
      "text/plain": [
       "  0%|          | 0/782 [00:00<?, ?it/s]"
      ]
     },
     "metadata": {},
     "output_type": "display_data"
    },
    {
     "data": {
      "application/vnd.jupyter.widget-view+json": {
       "model_id": "90bd949d250741ba9b8c94cdce683a9e",
       "version_major": 2,
       "version_minor": 0
      },
      "text/plain": [
       "  0%|          | 0/782 [00:00<?, ?it/s]"
      ]
     },
     "metadata": {},
     "output_type": "display_data"
    },
    {
     "data": {
      "application/vnd.jupyter.widget-view+json": {
       "model_id": "ccdf16f703fe49dca1bcd49bfdcaafc2",
       "version_major": 2,
       "version_minor": 0
      },
      "text/plain": [
       "  0%|          | 0/782 [00:00<?, ?it/s]"
      ]
     },
     "metadata": {},
     "output_type": "display_data"
    },
    {
     "data": {
      "application/vnd.jupyter.widget-view+json": {
       "model_id": "8e58c4f7bc6b488f9ea3e92a07696db4",
       "version_major": 2,
       "version_minor": 0
      },
      "text/plain": [
       "  0%|          | 0/782 [00:00<?, ?it/s]"
      ]
     },
     "metadata": {},
     "output_type": "display_data"
    },
    {
     "data": {
      "application/vnd.jupyter.widget-view+json": {
       "model_id": "f8ae8d7fe837474c84990b6616de7c98",
       "version_major": 2,
       "version_minor": 0
      },
      "text/plain": [
       "  0%|          | 0/782 [00:00<?, ?it/s]"
      ]
     },
     "metadata": {},
     "output_type": "display_data"
    },
    {
     "data": {
      "application/vnd.jupyter.widget-view+json": {
       "model_id": "991fb705fbf34d38b512f62ad48d5924",
       "version_major": 2,
       "version_minor": 0
      },
      "text/plain": [
       "  0%|          | 0/782 [00:00<?, ?it/s]"
      ]
     },
     "metadata": {},
     "output_type": "display_data"
    },
    {
     "data": {
      "application/vnd.jupyter.widget-view+json": {
       "model_id": "cc37357edc324804a147855274051369",
       "version_major": 2,
       "version_minor": 0
      },
      "text/plain": [
       "  0%|          | 0/782 [00:00<?, ?it/s]"
      ]
     },
     "metadata": {},
     "output_type": "display_data"
    },
    {
     "data": {
      "application/vnd.jupyter.widget-view+json": {
       "model_id": "b7c4debb34614a7897d4b7bb07982811",
       "version_major": 2,
       "version_minor": 0
      },
      "text/plain": [
       "  0%|          | 0/782 [00:00<?, ?it/s]"
      ]
     },
     "metadata": {},
     "output_type": "display_data"
    },
    {
     "data": {
      "application/vnd.jupyter.widget-view+json": {
       "model_id": "2b26b57c6cfd494b91931cabfa61bd42",
       "version_major": 2,
       "version_minor": 0
      },
      "text/plain": [
       "  0%|          | 0/782 [00:00<?, ?it/s]"
      ]
     },
     "metadata": {},
     "output_type": "display_data"
    },
    {
     "data": {
      "application/vnd.jupyter.widget-view+json": {
       "model_id": "33c66235e246403c8c0b8b63498383cf",
       "version_major": 2,
       "version_minor": 0
      },
      "text/plain": [
       "  0%|          | 0/782 [00:00<?, ?it/s]"
      ]
     },
     "metadata": {},
     "output_type": "display_data"
    },
    {
     "data": {
      "application/vnd.jupyter.widget-view+json": {
       "model_id": "76d05b20f5b0498fad09b3b19ad973ba",
       "version_major": 2,
       "version_minor": 0
      },
      "text/plain": [
       "  0%|          | 0/782 [00:00<?, ?it/s]"
      ]
     },
     "metadata": {},
     "output_type": "display_data"
    },
    {
     "data": {
      "application/vnd.jupyter.widget-view+json": {
       "model_id": "8591b526513942fca2cb07220c154511",
       "version_major": 2,
       "version_minor": 0
      },
      "text/plain": [
       "  0%|          | 0/782 [00:00<?, ?it/s]"
      ]
     },
     "metadata": {},
     "output_type": "display_data"
    },
    {
     "data": {
      "application/vnd.jupyter.widget-view+json": {
       "model_id": "8c564063c51a483ea402a57326c2136a",
       "version_major": 2,
       "version_minor": 0
      },
      "text/plain": [
       "  0%|          | 0/782 [00:00<?, ?it/s]"
      ]
     },
     "metadata": {},
     "output_type": "display_data"
    },
    {
     "data": {
      "application/vnd.jupyter.widget-view+json": {
       "model_id": "d6dd4b3829cc46929d14a7e74d334a7e",
       "version_major": 2,
       "version_minor": 0
      },
      "text/plain": [
       "  0%|          | 0/782 [00:00<?, ?it/s]"
      ]
     },
     "metadata": {},
     "output_type": "display_data"
    },
    {
     "data": {
      "application/vnd.jupyter.widget-view+json": {
       "model_id": "b2cc412e30714a46bf8d12f0587bab9c",
       "version_major": 2,
       "version_minor": 0
      },
      "text/plain": [
       "  0%|          | 0/782 [00:00<?, ?it/s]"
      ]
     },
     "metadata": {},
     "output_type": "display_data"
    },
    {
     "data": {
      "application/vnd.jupyter.widget-view+json": {
       "model_id": "7db2978b8c3340faa9b1958c1004846a",
       "version_major": 2,
       "version_minor": 0
      },
      "text/plain": [
       "  0%|          | 0/782 [00:00<?, ?it/s]"
      ]
     },
     "metadata": {},
     "output_type": "display_data"
    },
    {
     "data": {
      "application/vnd.jupyter.widget-view+json": {
       "model_id": "bdff1ffdfcb5428fbfe198723e240ea4",
       "version_major": 2,
       "version_minor": 0
      },
      "text/plain": [
       "  0%|          | 0/782 [00:00<?, ?it/s]"
      ]
     },
     "metadata": {},
     "output_type": "display_data"
    },
    {
     "data": {
      "application/vnd.jupyter.widget-view+json": {
       "model_id": "12358b447ba54ea8b4d5f6f6846a4ec2",
       "version_major": 2,
       "version_minor": 0
      },
      "text/plain": [
       "  0%|          | 0/782 [00:00<?, ?it/s]"
      ]
     },
     "metadata": {},
     "output_type": "display_data"
    },
    {
     "data": {
      "application/vnd.jupyter.widget-view+json": {
       "model_id": "79567eee4c8e49b8aec8bd7e1d1b952b",
       "version_major": 2,
       "version_minor": 0
      },
      "text/plain": [
       "  0%|          | 0/782 [00:00<?, ?it/s]"
      ]
     },
     "metadata": {},
     "output_type": "display_data"
    },
    {
     "data": {
      "application/vnd.jupyter.widget-view+json": {
       "model_id": "e7f3f60f0cad4e70a8c6431503b5d4c3",
       "version_major": 2,
       "version_minor": 0
      },
      "text/plain": [
       "  0%|          | 0/782 [00:00<?, ?it/s]"
      ]
     },
     "metadata": {},
     "output_type": "display_data"
    },
    {
     "data": {
      "application/vnd.jupyter.widget-view+json": {
       "model_id": "cb14ec64a30f4d31a6b3253dbb165e10",
       "version_major": 2,
       "version_minor": 0
      },
      "text/plain": [
       "  0%|          | 0/782 [00:00<?, ?it/s]"
      ]
     },
     "metadata": {},
     "output_type": "display_data"
    },
    {
     "data": {
      "application/vnd.jupyter.widget-view+json": {
       "model_id": "c0639d0c49544ee793aafddb8d14f27a",
       "version_major": 2,
       "version_minor": 0
      },
      "text/plain": [
       "  0%|          | 0/782 [00:00<?, ?it/s]"
      ]
     },
     "metadata": {},
     "output_type": "display_data"
    },
    {
     "data": {
      "application/vnd.jupyter.widget-view+json": {
       "model_id": "3b325fcef4784e4d90e269dd02fd7751",
       "version_major": 2,
       "version_minor": 0
      },
      "text/plain": [
       "  0%|          | 0/782 [00:00<?, ?it/s]"
      ]
     },
     "metadata": {},
     "output_type": "display_data"
    },
    {
     "data": {
      "application/vnd.jupyter.widget-view+json": {
       "model_id": "a6a45ca001f847d3aaec42e1213dfc5c",
       "version_major": 2,
       "version_minor": 0
      },
      "text/plain": [
       "  0%|          | 0/782 [00:00<?, ?it/s]"
      ]
     },
     "metadata": {},
     "output_type": "display_data"
    },
    {
     "data": {
      "application/vnd.jupyter.widget-view+json": {
       "model_id": "90f60bd0ce9a45bcb2a3ff67bb55a27a",
       "version_major": 2,
       "version_minor": 0
      },
      "text/plain": [
       "  0%|          | 0/782 [00:00<?, ?it/s]"
      ]
     },
     "metadata": {},
     "output_type": "display_data"
    },
    {
     "data": {
      "application/vnd.jupyter.widget-view+json": {
       "model_id": "1b7f98c9769449ecb2716bdafdc82423",
       "version_major": 2,
       "version_minor": 0
      },
      "text/plain": [
       "  0%|          | 0/782 [00:00<?, ?it/s]"
      ]
     },
     "metadata": {},
     "output_type": "display_data"
    },
    {
     "data": {
      "application/vnd.jupyter.widget-view+json": {
       "model_id": "37554033baa34743bbbf2f985544a8ad",
       "version_major": 2,
       "version_minor": 0
      },
      "text/plain": [
       "  0%|          | 0/782 [00:00<?, ?it/s]"
      ]
     },
     "metadata": {},
     "output_type": "display_data"
    },
    {
     "data": {
      "application/vnd.jupyter.widget-view+json": {
       "model_id": "e2729fada762494e9dd1605017f1a580",
       "version_major": 2,
       "version_minor": 0
      },
      "text/plain": [
       "  0%|          | 0/782 [00:00<?, ?it/s]"
      ]
     },
     "metadata": {},
     "output_type": "display_data"
    },
    {
     "data": {
      "application/vnd.jupyter.widget-view+json": {
       "model_id": "05fab6e93efc47d7b16754f664eaefc1",
       "version_major": 2,
       "version_minor": 0
      },
      "text/plain": [
       "  0%|          | 0/782 [00:00<?, ?it/s]"
      ]
     },
     "metadata": {},
     "output_type": "display_data"
    },
    {
     "data": {
      "application/vnd.jupyter.widget-view+json": {
       "model_id": "401c3ad761844e00a7099be2a9749de4",
       "version_major": 2,
       "version_minor": 0
      },
      "text/plain": [
       "  0%|          | 0/782 [00:00<?, ?it/s]"
      ]
     },
     "metadata": {},
     "output_type": "display_data"
    },
    {
     "data": {
      "application/vnd.jupyter.widget-view+json": {
       "model_id": "c9242c7a72ff4d67937b0ecce130be83",
       "version_major": 2,
       "version_minor": 0
      },
      "text/plain": [
       "  0%|          | 0/782 [00:00<?, ?it/s]"
      ]
     },
     "metadata": {},
     "output_type": "display_data"
    },
    {
     "data": {
      "application/vnd.jupyter.widget-view+json": {
       "model_id": "b60cfb51eec14747a9ab71acf4ad934a",
       "version_major": 2,
       "version_minor": 0
      },
      "text/plain": [
       "  0%|          | 0/782 [00:00<?, ?it/s]"
      ]
     },
     "metadata": {},
     "output_type": "display_data"
    },
    {
     "data": {
      "application/vnd.jupyter.widget-view+json": {
       "model_id": "f844581fc149484a8e11f3aec2e2ffe2",
       "version_major": 2,
       "version_minor": 0
      },
      "text/plain": [
       "  0%|          | 0/782 [00:00<?, ?it/s]"
      ]
     },
     "metadata": {},
     "output_type": "display_data"
    },
    {
     "data": {
      "application/vnd.jupyter.widget-view+json": {
       "model_id": "63551105af1b4512a1653f1c91ad0bc6",
       "version_major": 2,
       "version_minor": 0
      },
      "text/plain": [
       "  0%|          | 0/782 [00:00<?, ?it/s]"
      ]
     },
     "metadata": {},
     "output_type": "display_data"
    },
    {
     "data": {
      "application/vnd.jupyter.widget-view+json": {
       "model_id": "8ea7e3b7b09e4cdf918790faf3824720",
       "version_major": 2,
       "version_minor": 0
      },
      "text/plain": [
       "  0%|          | 0/782 [00:00<?, ?it/s]"
      ]
     },
     "metadata": {},
     "output_type": "display_data"
    },
    {
     "data": {
      "application/vnd.jupyter.widget-view+json": {
       "model_id": "22034c51daec4570b5dfdd5886209f2f",
       "version_major": 2,
       "version_minor": 0
      },
      "text/plain": [
       "  0%|          | 0/782 [00:00<?, ?it/s]"
      ]
     },
     "metadata": {},
     "output_type": "display_data"
    },
    {
     "data": {
      "application/vnd.jupyter.widget-view+json": {
       "model_id": "ecaaf0e4fa944c1bbca0ef8407685744",
       "version_major": 2,
       "version_minor": 0
      },
      "text/plain": [
       "  0%|          | 0/782 [00:00<?, ?it/s]"
      ]
     },
     "metadata": {},
     "output_type": "display_data"
    },
    {
     "data": {
      "application/vnd.jupyter.widget-view+json": {
       "model_id": "c34031bf42964880819207effca25e33",
       "version_major": 2,
       "version_minor": 0
      },
      "text/plain": [
       "  0%|          | 0/782 [00:00<?, ?it/s]"
      ]
     },
     "metadata": {},
     "output_type": "display_data"
    },
    {
     "data": {
      "application/vnd.jupyter.widget-view+json": {
       "model_id": "e78577009239416381bf4e31370e0355",
       "version_major": 2,
       "version_minor": 0
      },
      "text/plain": [
       "  0%|          | 0/782 [00:00<?, ?it/s]"
      ]
     },
     "metadata": {},
     "output_type": "display_data"
    }
   ],
   "source": [
    "best = 0.0\n",
    "best_idx = 0\n",
    "epochs = list(range(1000))\n",
    "if reset_stats:\n",
    "    reset_stats = False\n",
    "    # To be able to continue training and preserve the history of the model.\n",
    "    hist = []\n",
    "    hist_gpu = []\n",
    "    elapsed = 0\n",
    "with tqdm(epochs) as tbar:\n",
    "    for idx, epoch in enumerate(tbar):\n",
    "        t = time.time()\n",
    "        train_acc = train(mixup=True, mentor=True, weight_again=False, alpha=1, ema_percentile_gamma_p=70)\n",
    "        val_acc = val(test_loader)\n",
    "        t -= time.time()\n",
    "        hist.append((train_acc, val_acc, -t))\n",
    "        hist_gpu.append(torch.cuda.memory_stats())\n",
    "        if val_acc > best:\n",
    "            best = val_acc\n",
    "            best_idx = idx\n",
    "            torch.save(model.state_dict(), open(f\"{PATH_FF}/model.pt\", \"wb\"))\n",
    "        if idx - best_idx > 10:\n",
    "            break\n",
    "        tbar.set_description(f\"Train: {train_acc:.2f}, Val: {val_acc:.2f}, Best: {best:.2f}\")\n",
    "    elapsed += tbar.format_dict['elapsed']"
   ]
  },
  {
   "cell_type": "code",
   "execution_count": 134,
   "metadata": {
    "execution": {
     "iopub.status.busy": "2025-01-02T13:36:42.909517Z",
     "iopub.status.idle": "2025-01-02T13:36:42.909993Z",
     "shell.execute_reply": "2025-01-02T13:36:42.909759Z",
     "shell.execute_reply.started": "2025-01-02T13:36:42.909733Z"
    },
    "trusted": true
   },
   "outputs": [
    {
     "data": {
      "image/png": "[encoded data removed]",
      "text/plain": [
       "<Figure size 640x480 with 1 Axes>"
      ]
     },
     "metadata": {},
     "output_type": "display_data"
    },
    {
     "name": "stderr",
     "output_type": "stream",
     "text": [
      "C:\\Users\\KebabWarrior\\AppData\\Local\\Temp\\ipykernel_11076\\2054969833.py:10: FutureWarning: You are using `torch.load` with `weights_only=False` (the current default value), which uses the default pickle module implicitly. It is possible to construct malicious pickle data which will execute arbitrary code during unpickling (See https://github.com/pytorch/pytorch/blob/main/SECURITY.md#untrusted-models for more details). In a future release, the default value for `weights_only` will be flipped to `True`. This limits the functions that could be executed during unpickling. Arbitrary objects will no longer be allowed to be loaded via this mode unless they are explicitly allowlisted by the user via `torch.serialization.add_safe_globals`. We recommend you start setting `weights_only=True` for any use case where you don't have full control of the loaded file. Please open an issue on GitHub for any issues related to this experimental feature.\n",
      "  model.load_state_dict(torch.load(f\"{PATH_FF}/model.pt\"))\n"
     ]
    },
    {
     "name": "stdout",
     "output_type": "stream",
     "text": [
      "52.47\n"
     ]
    }
   ],
   "source": [
    "import matplotlib.pyplot as plt\n",
    "import json\n",
    "trains, valids, ts = zip(*hist)\n",
    "plt.title(PATH_FF)\n",
    "plt.plot(trains, label=\"Training Loss\")\n",
    "plt.plot(valids, label=\"Validation Loss\")\n",
    "plt.legend()\n",
    "plt.savefig(f\"{PATH_FF}/hist.png\")\n",
    "plt.show()\n",
    "model.load_state_dict(torch.load(f\"{PATH_FF}/model.pt\"))\n",
    "best_val = val(test_loader)\n",
    "print(val(test_loader))\n",
    "model.train()\n",
    "json.dump({\"elapsed\": elapsed,\n",
    "           \"best_acc\": best_val,\n",
    "           \"nparam\": sum(p.numel() for p in model.parameters()),\n",
    "           \"nparam_trainable\": sum(p.numel() for p in model.parameters() if p.requires_grad),\n",
    "           \"loss\": hist,\n",
    "           \"gpu\": hist_gpu,\n",
    "          }, open(f\"{PATH_FF}/stats.json\", \"wt\"))"
   ]
  },
  {
   "cell_type": "code",
   "execution_count": 135,
   "metadata": {
    "execution": {
     "iopub.status.busy": "2025-01-02T13:36:42.911087Z",
     "iopub.status.idle": "2025-01-02T13:36:42.911409Z",
     "shell.execute_reply": "2025-01-02T13:36:42.911274Z",
     "shell.execute_reply.started": "2025-01-02T13:36:42.911257Z"
    },
    "trusted": true
   },
   "outputs": [],
   "source": [
    "data = {\n",
    "    \"ID\": [],\n",
    "    \"target\": []\n",
    "}\n",
    "\n",
    "for i, label in enumerate(inference()):\n",
    "    data[\"ID\"].append(i)\n",
    "    data[\"target\"].append(label)\n",
    "\n",
    "df = pd.DataFrame(data)\n",
    "df.to_csv(f\"{PATH_FF}/submission.csv\", index=False)"
   ]
  }
 ],
 "metadata": {
  "kaggle": {
   "accelerator": "gpu",
   "dataSources": [
    {
     "databundleVersionId": 10228459,
     "sourceId": 89041,
     "sourceType": "competition"
    }
   ],
   "dockerImageVersionId": 30776,
   "isGpuEnabled": true,
   "isInternetEnabled": true,
   "language": "python",
   "sourceType": "notebook"
  },
  "kernelspec": {
   "display_name": "Python 3",
   "language": "python",
   "name": "python3"
  },
  "language_info": {
   "codemirror_mode": {
    "name": "ipython",
    "version": 3
   },
   "file_extension": ".py",
   "mimetype": "text/x-python",
   "name": "python",
   "nbconvert_exporter": "python",
   "pygments_lexer": "ipython3",
   "version": "3.11.0"
  }
 },
 "nbformat": 4,
 "nbformat_minor": 4
}
